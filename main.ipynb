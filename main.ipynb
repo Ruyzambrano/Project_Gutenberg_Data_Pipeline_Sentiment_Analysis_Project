{
 "cells": [
  {
   "cell_type": "code",
   "execution_count": null,
   "metadata": {},
   "outputs": [],
   "source": [
    "import pandas as pd\n",
    "import spacy\n",
    "from book_importer import BookImporter\n"
   ]
  },
  {
   "cell_type": "code",
   "execution_count": null,
   "metadata": {},
   "outputs": [],
   "source": [
    "book_id = [43, 345, 41445, 209, 1513]\n",
    "book_data = []\n",
    "for book in book_id:\n",
    "    title, author, text = BookImporter.get_book(book)\n",
    "    book_data.append({'Title': title, 'Author': author, 'Text': text})\n"
   ]
  },
  {
   "cell_type": "code",
   "execution_count": null,
   "metadata": {},
   "outputs": [],
   "source": [
    "gothic_data = pd.DataFrame(book_data)\n",
    "gothic_data.info()"
   ]
  },
  {
   "cell_type": "code",
   "execution_count": null,
   "metadata": {},
   "outputs": [],
   "source": [
    "print(gothic_data)"
   ]
  },
  {
   "cell_type": "code",
   "execution_count": null,
   "metadata": {},
   "outputs": [],
   "source": [
    "nlp = spacy.load('en_core_web_lg')"
   ]
  },
  {
   "cell_type": "code",
   "execution_count": null,
   "metadata": {},
   "outputs": [],
   "source": [
    "jekyll_hyde_doc = nlp(jekyll_hyde)\n",
    "jekyll_hyde_vectors = [token.vector for token in jekyll_hyde_doc]"
   ]
  },
  {
   "cell_type": "code",
   "execution_count": null,
   "metadata": {},
   "outputs": [],
   "source": [
    "dracula_doc = nlp(dracula)\n",
    "dracula_vectors = [token.vector for token in dracula_doc]"
   ]
  },
  {
   "cell_type": "code",
   "execution_count": null,
   "metadata": {},
   "outputs": [],
   "source": [
    "frankenstein_doc = nlp(frankenstein)\n",
    "frankenstein_vectors = [token.vector for token in frankenstein_doc]"
   ]
  },
  {
   "cell_type": "code",
   "execution_count": null,
   "metadata": {},
   "outputs": [],
   "source": [
    "turn_of_the_screw_doc = nlp(turn_of_the_screw)\n",
    "turn_of_the_screw_vectors = [token.vector for token in turn_of_the_screw_doc]"
   ]
  },
  {
   "cell_type": "code",
   "execution_count": null,
   "metadata": {},
   "outputs": [],
   "source": [
    "romeo_and_juliet_doc = nlp(romeo_and_juliet)\n",
    "romeo_and_juliet_vectors = [token.vector for token in romeo_and_juliet_doc]"
   ]
  },
  {
   "cell_type": "code",
   "execution_count": null,
   "metadata": {},
   "outputs": [],
   "source": [
    "dracula_jekyll_similarity = dracula_doc.similarity(jekyll_hyde_doc)\n",
    "print(dracula_jekyll_similarity)"
   ]
  },
  {
   "cell_type": "code",
   "execution_count": null,
   "metadata": {},
   "outputs": [],
   "source": [
    "romeo_dracula_similarity = dracula_doc.similarity(romeo_and_juliet_doc)\n",
    "print(romeo_dracula_similarity)"
   ]
  }
 ],
 "metadata": {
  "kernelspec": {
   "display_name": "Python 3",
   "language": "python",
   "name": "python3"
  },
  "language_info": {
   "codemirror_mode": {
    "name": "ipython",
    "version": 3
   },
   "file_extension": ".py",
   "mimetype": "text/x-python",
   "name": "python",
   "nbconvert_exporter": "python",
   "pygments_lexer": "ipython3",
   "version": "3.11.2"
  },
  "orig_nbformat": 4
 },
 "nbformat": 4,
 "nbformat_minor": 2
}
