{
 "cells": [
  {
   "cell_type": "code",
   "execution_count": 4,
   "metadata": {},
   "outputs": [],
   "source": [
    "import pandas as pd\n",
    "import spacy\n",
    "import re\n",
    "\n",
    "from spacytextblob.spacytextblob import SpacyTextBlob\n",
    "\n",
    "from goodreads_book_scraper import get_listopia\n",
    "from book_importer import BookImporter\n",
    "from language_analysis import Book\n",
    "from similarity import SimilarityChecker\n"
   ]
  },
  {
   "attachments": {},
   "cell_type": "markdown",
   "metadata": {},
   "source": [
    "## Get a list of books from GoodReads"
   ]
  },
  {
   "cell_type": "code",
   "execution_count": 5,
   "metadata": {},
   "outputs": [],
   "source": [
    "url = 'https://www.goodreads.com/list/show/1.Best_Books_Ever'\n",
    "\n",
    "goodreads_list = get_listopia(url)"
   ]
  },
  {
   "cell_type": "code",
   "execution_count": 3,
   "metadata": {},
   "outputs": [],
   "source": [
    "book_data = []\n",
    "\n",
    "for book in goodreads_list:\n",
    "    title, author, text, file_path = BookImporter.gutendex(book)\n",
    "    if title:\n",
    "        book_data.append({'Title': title, 'Author': author, 'Text': text, 'File Path': file_path})\n"
   ]
  },
  {
   "attachments": {},
   "cell_type": "markdown",
   "metadata": {},
   "source": [
    "## Import the books from the Gutenberg Library and store the information into pandas."
   ]
  },
  {
   "cell_type": "code",
   "execution_count": 6,
   "metadata": {},
   "outputs": [],
   "source": [
    "book_id = [43, 345, 41445, 209, 1513, 11, 36, 768, 1342, 2701, 4300]\n",
    "\n",
    "for book in book_id:\n",
    "    title, author, text, file_path = BookImporter.get_book(book)\n",
    "    book_data.append({'Title': title, 'Author': author, 'Text': text, 'File Path': file_path})\n"
   ]
  },
  {
   "cell_type": "code",
   "execution_count": 7,
   "metadata": {},
   "outputs": [
    {
     "name": "stdout",
     "output_type": "stream",
     "text": [
      "<class 'pandas.core.frame.DataFrame'>\n",
      "RangeIndex: 89 entries, 0 to 88\n",
      "Data columns (total 4 columns):\n",
      " #   Column     Non-Null Count  Dtype \n",
      "---  ------     --------------  ----- \n",
      " 0   Title      89 non-null     object\n",
      " 1   Author     89 non-null     object\n",
      " 2   Text       89 non-null     object\n",
      " 3   File Path  89 non-null     object\n",
      "dtypes: object(4)\n",
      "memory usage: 2.9+ KB\n"
     ]
    }
   ],
   "source": [
    "book_data = pd.DataFrame(book_data)\n",
    "book_data.info()"
   ]
  },
  {
   "cell_type": "code",
   "execution_count": 8,
   "metadata": {},
   "outputs": [
    {
     "name": "stdout",
     "output_type": "stream",
     "text": [
      "0                                   Pride and prejudice\n",
      "1                                   Pride and prejudice\n",
      "2     The Raid of John Brown at Harper's Ferry as I ...\n",
      "3                                  A Thief in the Night\n",
      "4                                      Domestic Animals\n",
      "                            ...                        \n",
      "84                                The War of the Worlds\n",
      "85                                    Wuthering Heights\n",
      "86                                  Pride and prejudice\n",
      "87                              Moby-Dick; or The Whale\n",
      "88                                              Ulysses\n",
      "Name: Title, Length: 89, dtype: object\n"
     ]
    }
   ],
   "source": [
    "print(book_data['Title'])"
   ]
  },
  {
   "attachments": {},
   "cell_type": "markdown",
   "metadata": {},
   "source": [
    "## Load the NLP and add TextBlob to it"
   ]
  },
  {
   "cell_type": "code",
   "execution_count": null,
   "metadata": {},
   "outputs": [],
   "source": [
    "nlp = spacy.load('en_core_web_lg')\n",
    "nlp.add_pipe('spacytextblob')\n",
    "\n",
    "books = []"
   ]
  },
  {
   "attachments": {},
   "cell_type": "markdown",
   "metadata": {},
   "source": [
    "## Read the files and analyse the novels"
   ]
  },
  {
   "attachments": {},
   "cell_type": "markdown",
   "metadata": {},
   "source": [
    "### Jekyll and Hyde"
   ]
  },
  {
   "cell_type": "code",
   "execution_count": null,
   "metadata": {},
   "outputs": [],
   "source": [
    "with open('data\\The_Strange_Case_Of_Dr._Jekyll_And_Mr._Hyde.txt', 'r', encoding='UTF-8') as file:\n",
    "    jekyll_hyde = Book('Jekyll and Hyde', file.read())\n",
    "chapter_markers = r'((\\nSTORY OF THE DOOR)|(\\nSEARCH FOR MR. HYDE)|(\\nDR. JEKYLL WAS QUITE AT EASE)|(\\nTHE CAREW MURDER CASE)|(\\nINCIDENT OF THE LETTER)|(\\nINCIDENT OF DR. LANYON)|(\\nINCIDENT AT THE WINDOW)|(\\nTHE LAST NIGHT)|(\\nDR. LANYON’S NARRATIVE)|(\\nHENRY JEKYLL’S FULL STATEMENT OF THE CASE))'\n"
   ]
  },
  {
   "cell_type": "code",
   "execution_count": null,
   "metadata": {},
   "outputs": [],
   "source": [
    "jekyll_hyde.split_into_chapters(chapter_markers)\n"
   ]
  },
  {
   "cell_type": "code",
   "execution_count": null,
   "metadata": {},
   "outputs": [],
   "source": [
    "jekyll_hyde.do_nlp(nlp)\n"
   ]
  },
  {
   "cell_type": "code",
   "execution_count": null,
   "metadata": {},
   "outputs": [],
   "source": [
    "jekyll_hyde.chapter_nlp(nlp)\n"
   ]
  },
  {
   "cell_type": "code",
   "execution_count": null,
   "metadata": {},
   "outputs": [],
   "source": [
    "jekyll_hyde.blobify()"
   ]
  },
  {
   "cell_type": "code",
   "execution_count": null,
   "metadata": {},
   "outputs": [],
   "source": [
    "jekyll_hyde.get_analysis()"
   ]
  },
  {
   "cell_type": "code",
   "execution_count": null,
   "metadata": {},
   "outputs": [],
   "source": [
    "jekyll_hyde.chapter_analysis()\n"
   ]
  },
  {
   "cell_type": "code",
   "execution_count": null,
   "metadata": {},
   "outputs": [],
   "source": [
    "books.append(jekyll_hyde)"
   ]
  },
  {
   "attachments": {},
   "cell_type": "markdown",
   "metadata": {},
   "source": [
    "### Dracula"
   ]
  },
  {
   "cell_type": "code",
   "execution_count": null,
   "metadata": {},
   "outputs": [],
   "source": [
    "with open('data\\Dracula.txt', 'r', encoding='UTF-8') as file:\n",
    "    dracula = Book('Dracula', file.read())\n",
    "chapter_markers = r'(PREFACE.)|(LETTER I+\\.)|(CHAPTER [IVXLCDM]+\\n)'\n",
    "\n",
    "\n"
   ]
  },
  {
   "cell_type": "code",
   "execution_count": null,
   "metadata": {},
   "outputs": [],
   "source": [
    "dracula.split_into_chapters(chapter_markers)\n"
   ]
  },
  {
   "cell_type": "code",
   "execution_count": null,
   "metadata": {},
   "outputs": [],
   "source": [
    "dracula.do_nlp(nlp)\n"
   ]
  },
  {
   "cell_type": "code",
   "execution_count": null,
   "metadata": {},
   "outputs": [],
   "source": [
    "dracula.chapter_nlp(nlp)\n"
   ]
  },
  {
   "cell_type": "code",
   "execution_count": null,
   "metadata": {},
   "outputs": [],
   "source": [
    "dracula.blobify()"
   ]
  },
  {
   "cell_type": "code",
   "execution_count": null,
   "metadata": {},
   "outputs": [],
   "source": [
    "dracula.get_analysis()\n"
   ]
  },
  {
   "cell_type": "code",
   "execution_count": null,
   "metadata": {},
   "outputs": [],
   "source": [
    "dracula.chapter_analysis()\n",
    "books.append(dracula)"
   ]
  },
  {
   "attachments": {},
   "cell_type": "markdown",
   "metadata": {},
   "source": [
    "### Frankenstein"
   ]
  },
  {
   "cell_type": "code",
   "execution_count": null,
   "metadata": {},
   "outputs": [],
   "source": [
    "with open('data\\Frankenstein.txt', 'r', encoding='UTF-8') as file:\n",
    "    frankenstein = Book('Frankenstein', file.read())\n",
    "\n",
    "chapter_markers = r'(PREFACE.)|(LETTER I+\\.)|(CHAPTER [IVXLCDM]+\\.)'\n",
    "frankenstein.split_into_chapters(chapter_markers)\n"
   ]
  },
  {
   "cell_type": "code",
   "execution_count": null,
   "metadata": {},
   "outputs": [],
   "source": [
    "frankenstein.do_nlp(nlp)\n"
   ]
  },
  {
   "cell_type": "code",
   "execution_count": null,
   "metadata": {},
   "outputs": [],
   "source": [
    "frankenstein.chapter_nlp(nlp)\n"
   ]
  },
  {
   "cell_type": "code",
   "execution_count": null,
   "metadata": {},
   "outputs": [],
   "source": [
    "frankenstein.blobify()\n"
   ]
  },
  {
   "cell_type": "code",
   "execution_count": null,
   "metadata": {},
   "outputs": [],
   "source": [
    "frankenstein.get_analysis()\n"
   ]
  },
  {
   "cell_type": "code",
   "execution_count": null,
   "metadata": {},
   "outputs": [],
   "source": [
    "frankenstein.chapter_analysis()\n",
    "books.append(frankenstein)"
   ]
  },
  {
   "attachments": {},
   "cell_type": "markdown",
   "metadata": {},
   "source": [
    "### The Turn of the Screw"
   ]
  },
  {
   "cell_type": "code",
   "execution_count": null,
   "metadata": {},
   "outputs": [],
   "source": [
    "with open('data\\The_Turn_of_the_Screw.txt', 'r', encoding='UTF-8') as file:\n",
    "    turn_of_the_screw = Book('The Turn of the Screw', file.read())\n",
    "\n",
    "chapter_markers = r'((\\nI\\n)|(\\nII)|(\\nIII)|(\\nIV)|(\\nV)|(\\nVI)|(\\nVII)|(\\nVIII)|(\\nIX)|(\\nX)|(\\nXI)|(\\nXII)|(\\nXIII)|(\\nXIV)|(\\nXV)|(\\nXVI)|(\\nXVII)|(\\nXVIII)|(\\nXIX)|(\\nXX)|(\\nXXI)|(\\nXXII)|(\\nXXIII)|(\\nXXIV))'\n"
   ]
  },
  {
   "cell_type": "code",
   "execution_count": null,
   "metadata": {},
   "outputs": [],
   "source": [
    "turn_of_the_screw.split_into_chapters(chapter_markers)\n"
   ]
  },
  {
   "cell_type": "code",
   "execution_count": null,
   "metadata": {},
   "outputs": [],
   "source": [
    "turn_of_the_screw.do_nlp(nlp)\n"
   ]
  },
  {
   "cell_type": "code",
   "execution_count": null,
   "metadata": {},
   "outputs": [],
   "source": [
    "turn_of_the_screw.chapter_nlp(nlp)\n"
   ]
  },
  {
   "cell_type": "code",
   "execution_count": null,
   "metadata": {},
   "outputs": [],
   "source": [
    "turn_of_the_screw.blobify()\n"
   ]
  },
  {
   "cell_type": "code",
   "execution_count": null,
   "metadata": {},
   "outputs": [],
   "source": [
    "turn_of_the_screw.get_analysis()\n"
   ]
  },
  {
   "cell_type": "code",
   "execution_count": null,
   "metadata": {},
   "outputs": [],
   "source": [
    "turn_of_the_screw.chapter_analysis()\n",
    "books.append(turn_of_the_screw)"
   ]
  },
  {
   "attachments": {},
   "cell_type": "markdown",
   "metadata": {},
   "source": [
    "### Romeo and Juliet"
   ]
  },
  {
   "cell_type": "code",
   "execution_count": null,
   "metadata": {},
   "outputs": [],
   "source": [
    "with open('data\\Romeo_and_Juliet.txt', 'r', encoding='UTF-8') as file:\n",
    "    romeo_and_juliet = Book('Romeo and Juliet', file.read())\n",
    "\n",
    "chapter_markers = r'(THE PROLOGUE\\n)|(SCENE I. A public place)|(SCENE II. A Street)|(SCENE III. Room in Capulet’s House)|(SCENE IV. A Street)|(SCENE V. A Hall in Capulet’s House)|(ACT II\\n\\n)|(SCENE I. An open place adjoining Capulet’s Garden)|(SCENE II. Capulet’s Garden)|(SCENE III. Friar Lawrence’s Cell)|(SCENE IV. A Street)|(SCENE V. Capulet’s Garden)|(SCENE VI. Friar Lawrence’s Cell)|(SCENE I. A public Place)|(SCENE II. A Room in Capulet’s House)|(SCENE III. Friar Lawrence’s cell)|(SCENE IV. A Room in Capulet’s House)|(SCENE V. An open Gallery to Juliet’s Chamber, overlooking the Garden)|(SCENE I. Friar Lawrence’s Cell)|(SCENE II. Hall in Capulet’s House)|(SCENE III. Juliet’s Chamber)|(SCENE IV. Hall in Capulet’s House)|(SCENE V. Juliet’s Chamber; Juliet on the bed)|(SCENE I. Mantua. A Street)|(SCENE II. Friar Lawrence’s Cell)|(SCENE III. A churchyard; in it a Monument belonging to the Capulets)'\n"
   ]
  },
  {
   "cell_type": "code",
   "execution_count": null,
   "metadata": {},
   "outputs": [],
   "source": [
    "romeo_and_juliet.split_into_chapters(chapter_markers)\n"
   ]
  },
  {
   "cell_type": "code",
   "execution_count": null,
   "metadata": {},
   "outputs": [],
   "source": [
    "romeo_and_juliet.do_nlp(nlp)\n"
   ]
  },
  {
   "cell_type": "code",
   "execution_count": null,
   "metadata": {},
   "outputs": [],
   "source": [
    "romeo_and_juliet.chapter_nlp(nlp)\n"
   ]
  },
  {
   "cell_type": "code",
   "execution_count": null,
   "metadata": {},
   "outputs": [],
   "source": [
    "romeo_and_juliet.blobify()\n"
   ]
  },
  {
   "cell_type": "code",
   "execution_count": null,
   "metadata": {},
   "outputs": [],
   "source": [
    "romeo_and_juliet.get_analysis()\n"
   ]
  },
  {
   "cell_type": "code",
   "execution_count": null,
   "metadata": {},
   "outputs": [],
   "source": [
    "romeo_and_juliet.chapter_analysis()\n",
    "books.append(romeo_and_juliet)"
   ]
  },
  {
   "attachments": {},
   "cell_type": "markdown",
   "metadata": {},
   "source": [
    "### Alice's Adventures in Wonderland"
   ]
  },
  {
   "cell_type": "code",
   "execution_count": null,
   "metadata": {},
   "outputs": [],
   "source": [
    "with open('data\\Alice’s_Adventures_in_Wonderland.txt', 'r', encoding='UTF-8') as file:\n",
    "    alice = Book('Alice in Wonderland', file.read())\n",
    "chapter_markers = r'(CHAPTER I.\\nDown the Rabbit-Hole)|(CHAPTER II.\\nThe Pool of Tears)|(CHAPTER III.\\nA Caucus-Race and a Long Tale)|(CHAPTER IV.\\nThe Rabbit Sends in a Little Bill)|(CHAPTER V.\\nAdvice from a Caterpillar)|(CHAPTER VI.\\nPig and Pepper)|(CHAPTER VII.\\nA Mad Tea-Party)|(CHAPTER VIII.\\nThe Queen’s Croquet-Ground)|(CHAPTER IX.\\nThe Mock Turtle’s Story)|(CHAPTER X.\\nThe Lobster Quadrille)|(CHAPTER XI.\\nWho Stole the Tarts\\?)|(CHAPTER XII.\\nAlice’s Evidence)'\n"
   ]
  },
  {
   "cell_type": "code",
   "execution_count": null,
   "metadata": {},
   "outputs": [],
   "source": [
    "alice.split_into_chapters(chapter_markers)\n"
   ]
  },
  {
   "cell_type": "code",
   "execution_count": null,
   "metadata": {},
   "outputs": [],
   "source": [
    "alice.do_nlp(nlp)\n"
   ]
  },
  {
   "cell_type": "code",
   "execution_count": null,
   "metadata": {},
   "outputs": [],
   "source": [
    "alice.chapter_nlp(nlp)\n"
   ]
  },
  {
   "cell_type": "code",
   "execution_count": null,
   "metadata": {},
   "outputs": [],
   "source": [
    "alice.blobify()\n"
   ]
  },
  {
   "cell_type": "code",
   "execution_count": null,
   "metadata": {},
   "outputs": [],
   "source": [
    "alice.get_analysis()\n"
   ]
  },
  {
   "cell_type": "code",
   "execution_count": null,
   "metadata": {},
   "outputs": [],
   "source": [
    "alice.chapter_analysis()\n",
    "books.append(alice)"
   ]
  },
  {
   "attachments": {},
   "cell_type": "markdown",
   "metadata": {},
   "source": [
    "### The War of the Worlds"
   ]
  },
  {
   "cell_type": "code",
   "execution_count": null,
   "metadata": {},
   "outputs": [],
   "source": [
    "with open('data\\The_War_of_the_Worlds.txt', 'r', encoding='UTF-8') as file:\n",
    "    war_of_the_worlds = Book('War of the Worlds', file.read())\n",
    "\n",
    "chapter_markers = r'\\n[IVX]+\\.\\n'\n"
   ]
  },
  {
   "cell_type": "code",
   "execution_count": null,
   "metadata": {},
   "outputs": [],
   "source": [
    "war_of_the_worlds.split_into_chapters(chapter_markers)\n"
   ]
  },
  {
   "cell_type": "code",
   "execution_count": null,
   "metadata": {},
   "outputs": [],
   "source": [
    "war_of_the_worlds.do_nlp(nlp)\n"
   ]
  },
  {
   "cell_type": "code",
   "execution_count": null,
   "metadata": {},
   "outputs": [],
   "source": [
    "war_of_the_worlds.chapter_nlp(nlp)\n"
   ]
  },
  {
   "cell_type": "code",
   "execution_count": null,
   "metadata": {},
   "outputs": [],
   "source": [
    "war_of_the_worlds.blobify()\n"
   ]
  },
  {
   "cell_type": "code",
   "execution_count": null,
   "metadata": {},
   "outputs": [],
   "source": [
    "war_of_the_worlds.get_analysis()\n"
   ]
  },
  {
   "cell_type": "code",
   "execution_count": null,
   "metadata": {},
   "outputs": [],
   "source": [
    "war_of_the_worlds.chapter_analysis()\n",
    "books.append(war_of_the_worlds)"
   ]
  },
  {
   "attachments": {},
   "cell_type": "markdown",
   "metadata": {},
   "source": [
    "### Wuthering Heights"
   ]
  },
  {
   "cell_type": "code",
   "execution_count": null,
   "metadata": {},
   "outputs": [],
   "source": [
    "with open('data\\Wuthering_Heights.txt', 'r', encoding='UTF-8') as file:\n",
    "    wuthering_heights = Book('Wuthering Heights', file.read())\n",
    "\n",
    "chapter_markers = r'CHAPTER [IVX]+'\n"
   ]
  },
  {
   "cell_type": "code",
   "execution_count": null,
   "metadata": {},
   "outputs": [],
   "source": [
    "wuthering_heights.split_into_chapters(chapter_markers)\n"
   ]
  },
  {
   "cell_type": "code",
   "execution_count": null,
   "metadata": {},
   "outputs": [],
   "source": [
    "wuthering_heights.do_nlp(nlp)\n"
   ]
  },
  {
   "cell_type": "code",
   "execution_count": null,
   "metadata": {},
   "outputs": [],
   "source": [
    "wuthering_heights.chapter_nlp(nlp)\n"
   ]
  },
  {
   "cell_type": "code",
   "execution_count": null,
   "metadata": {},
   "outputs": [],
   "source": [
    "wuthering_heights.blobify()\n"
   ]
  },
  {
   "cell_type": "code",
   "execution_count": null,
   "metadata": {},
   "outputs": [],
   "source": [
    "wuthering_heights.get_analysis()\n"
   ]
  },
  {
   "cell_type": "code",
   "execution_count": null,
   "metadata": {},
   "outputs": [],
   "source": [
    "wuthering_heights.chapter_analysis()\n",
    "books.append(wuthering_heights)"
   ]
  },
  {
   "attachments": {},
   "cell_type": "markdown",
   "metadata": {},
   "source": [
    "### Pride and Prejudice"
   ]
  },
  {
   "cell_type": "code",
   "execution_count": null,
   "metadata": {},
   "outputs": [],
   "source": [
    "with open('data\\Pride_and_prejudice.txt', 'r', encoding='UTF-8') as file:\n",
    "    pride_prejudice = Book('Pride and Prejudice', file.read())\n",
    "\n",
    "chapter_markers = r'(Chapter I\\.\\])|CHAPTER [IVXL]+\\.'\n"
   ]
  },
  {
   "cell_type": "code",
   "execution_count": null,
   "metadata": {},
   "outputs": [],
   "source": [
    "pride_prejudice.split_into_chapters(chapter_markers)"
   ]
  },
  {
   "cell_type": "code",
   "execution_count": null,
   "metadata": {},
   "outputs": [],
   "source": [
    "pride_prejudice.do_nlp(nlp)"
   ]
  },
  {
   "cell_type": "code",
   "execution_count": null,
   "metadata": {},
   "outputs": [],
   "source": [
    "pride_prejudice.chapter_nlp(nlp)"
   ]
  },
  {
   "cell_type": "code",
   "execution_count": null,
   "metadata": {},
   "outputs": [],
   "source": [
    "pride_prejudice.get_analysis()\n"
   ]
  },
  {
   "cell_type": "code",
   "execution_count": null,
   "metadata": {},
   "outputs": [],
   "source": [
    "pride_prejudice.chapter_analysis()\n",
    "books.append(pride_prejudice)"
   ]
  },
  {
   "attachments": {},
   "cell_type": "markdown",
   "metadata": {},
   "source": [
    "### Moby Dick"
   ]
  },
  {
   "cell_type": "code",
   "execution_count": null,
   "metadata": {},
   "outputs": [],
   "source": [
    "with open('data\\Moby-Dick;_or_The_Whale.txt', 'r', encoding='UTF-8') as file:\n",
    "    moby_dick = Book('Moby Dick', file.read())\n"
   ]
  },
  {
   "cell_type": "code",
   "execution_count": null,
   "metadata": {},
   "outputs": [],
   "source": [
    "contents = [\n",
    "    \"ETYMOLOGY.\",\n",
    "    \"EXTRACTS (Supplied by a Sub-Sub-Librarian).\",\n",
    "    \"CHAPTER 1. Loomings.\",\n",
    "    \"CHAPTER 2. The Carpet-Bag.\",\n",
    "    \"CHAPTER 3. The Spouter-Inn.\",\n",
    "    \"CHAPTER 4. The Counterpane.\",\n",
    "    \"CHAPTER 5. Breakfast.\",\n",
    "    \"CHAPTER 6. The Street.\",\n",
    "    \"CHAPTER 7. The Chapel.\",\n",
    "    \"CHAPTER 8. The Pulpit.\",\n",
    "    \"CHAPTER 9. The Sermon.\",\n",
    "    \"CHAPTER 10. A Bosom Friend.\",\n",
    "    \"CHAPTER 11. Nightgown.\",\n",
    "    \"CHAPTER 12. Biographical.\",\n",
    "    \"CHAPTER 13. Wheelbarrow.\",\n",
    "    \"CHAPTER 14. Nantucket.\",\n",
    "    \"CHAPTER 15. Chowder.\",\n",
    "    \"CHAPTER 16. The Ship.\",\n",
    "    \"CHAPTER 17. The Ramadan.\",\n",
    "    \"CHAPTER 18. His Mark.\",\n",
    "    \"CHAPTER 19. The Prophet.\",\n",
    "    \"CHAPTER 20. All Astir.\",\n",
    "    \"CHAPTER 21. Going Aboard.\",\n",
    "    \"CHAPTER 22. Merry Christmas.\",\n",
    "    \"CHAPTER 23. The Lee Shore.\",\n",
    "    \"CHAPTER 24. The Advocate.\",\n",
    "    \"CHAPTER 25. Postscript.\",\n",
    "    \"CHAPTER 26. Knights and Squires.\",\n",
    "    \"CHAPTER 27. Knights and Squires.\",\n",
    "    \"CHAPTER 28. Ahab.\",\n",
    "    \"CHAPTER 29. Enter Ahab; to Him, Stubb.\",\n",
    "    \"CHAPTER 30. The Pipe.\",\n",
    "    \"CHAPTER 31. Queen Mab.\",\n",
    "    \"CHAPTER 32. Cetology.\",\n",
    "    \"CHAPTER 33. The Specksnyder.\",\n",
    "    \"CHAPTER 34. The Cabin-Table.\",\n",
    "    \"CHAPTER 35. The Mast-Head.\",\n",
    "    \"CHAPTER 36. The Quarter-Deck.\",\n",
    "    \"CHAPTER 37. Sunset.\",\n",
    "    \"CHAPTER 38. Dusk.\",\n",
    "    \"CHAPTER 39. First Night-Watch.\",\n",
    "    \"CHAPTER 40. Midnight, Forecastle.\",\n",
    "    \"CHAPTER 41. Moby Dick.\",\n",
    "    \"CHAPTER 42. The Whiteness of the Whale.\",\n",
    "    \"CHAPTER 43. Hark!\",\n",
    "    \"CHAPTER 44. The Chart.\",\n",
    "    \"CHAPTER 45. The Affidavit.\",\n",
    "    \"CHAPTER 46. Surmises.\",\n",
    "    \"CHAPTER 47. The Mat-Maker.\",\n",
    "    \"CHAPTER 48. The First Lowering.\",\n",
    "    \"CHAPTER 49. The Hyena.\",\n",
    "    \"CHAPTER 50. Ahab’s Boat and Crew. Fedallah.\",\n",
    "    \"CHAPTER 51. The Spirit-Spout.\",\n",
    "    \"CHAPTER 52. The Albatross.\",\n",
    "    \"CHAPTER 53. The Gam.\",\n",
    "    \"CHAPTER 54. The Town-Ho’s Story.\",\n",
    "    \"CHAPTER 55. Of the Monstrous Pictures of Whales.\",\n",
    "    \"CHAPTER 56. Of the Less Erroneous Pictures of Whales, and the True\\nPictures of Whaling Scenes.\",\n",
    "    \"CHAPTER 57. Of Whales in Paint; in Teeth; in Wood; in Sheet-Iron; in\\Stone; in Mountains; in Stars.\",\n",
    "    \"CHAPTER 58. Brit.\",\n",
    "    \"CHAPTER 59. Squid.\",\n",
    "    \"CHAPTER 60. The Line.\",\n",
    "    \"CHAPTER 61. Stubb Kills a Whale.\",\n",
    "    \"CHAPTER 62. The Dart.\",\n",
    "    \"CHAPTER 63. The Crotch.\",\n",
    "    \"CHAPTER 64. Stubb’s Supper.\",\n",
    "    \"CHAPTER 65. The Whale as a Dish.\",\n",
    "    \"CHAPTER 66. The Shark Massacre.\",\n",
    "    \"CHAPTER 67. Cutting In.\",\n",
    "    \"CHAPTER 68. The Blanket.\",\n",
    "    \"CHAPTER 69. The Funeral.\",\n",
    "    \"CHAPTER 70. The Sphynx.\",\n",
    "    \"CHAPTER 71. The Jeroboam’s Story.\",\n",
    "    \"CHAPTER 72. The Monkey-Rope.\",\n",
    "    \"CHAPTER 73. Stubb and Flask kill a Right Whale; and Then Have a Talk over Him.\",\n",
    "    \"CHAPTER 74. The Sperm Whale’s Head—Contrasted View.\",\n",
    "    \"CHAPTER 75. The Right Whale’s Head—Contrasted View.\",\n",
    "    \"CHAPTER 76. The Battering-Ram.\",\n",
    "    \"CHAPTER 77. The Great Heidelburgh Tun.\",\n",
    "    \"CHAPTER 78. Cistern and Buckets.\",\n",
    "    \"CHAPTER 79. The Prairie.\",\n",
    "    \"CHAPTER 80. The Nut.\",\n",
    "    \"CHAPTER 81. The Pequod Meets The Virgin.\",\n",
    "    \"CHAPTER 82. The Honor and Glory of Whaling.\",\n",
    "    \"CHAPTER 83. Jonah Historically Regarded.\",\n",
    "    \"CHAPTER 84. Pitchpoling.\",\n",
    "    \"CHAPTER 85. The Fountain.\",\n",
    "    \"CHAPTER 86. The Tail.\",\n",
    "    \"CHAPTER 87. The Grand Armada.\",\n",
    "    \"CHAPTER 88. Schools and Schoolmasters.\",\n",
    "    \"CHAPTER 89. Fast-Fish and Loose-Fish.\",\n",
    "    \"CHAPTER 90. Heads or Tails.\",\n",
    "    \"CHAPTER 91. The Pequod Meets The Rose-Bud.\",\n",
    "    \"CHAPTER 92. Ambergris.\",\n",
    "    \"CHAPTER 93. The Castaway.\",\n",
    "    \"CHAPTER 94. A Squeeze of the Hand.\",\n",
    "    \"CHAPTER 95. The Cassock.\",\n",
    "    \"CHAPTER 96. The Try-Works.\",\n",
    "    \"CHAPTER 97. The Lamp.\",\n",
    "    \"CHAPTER 98. Stowing Down and Clearing Up.\",\n",
    "    \"CHAPTER 99. The Doubloon.\",\n",
    "    \"CHAPTER 100. Leg and Arm.\",\n",
    "    \"CHAPTER 101. The Decanter.\",\n",
    "    \"CHAPTER 102. A Bower in the Arsacides.\",\n",
    "    \"CHAPTER 103. Measurement of The Whale’s Skeleton.\",\n",
    "    \"CHAPTER 104. The Fossil Whale.\",\n",
    "    \"CHAPTER 105. Does the Whale’s Magnitude Diminish?—Will He Perish?\",\n",
    "    \"CHAPTER 106. Ahab’s Leg.\",\n",
    "    \"CHAPTER 107. The Carpenter.\",\n",
    "    \"CHAPTER 108. Ahab and the Carpenter.\",\n",
    "    \"CHAPTER 109. Ahab and Starbuck in the Cabin.\",\n",
    "    \"CHAPTER 110. Queequeg in His Coffin.\",\n",
    "    \"CHAPTER 111. The Pacific.\",\n",
    "    \"CHAPTER 112. The Blacksmith.\",\n",
    "    \"CHAPTER 113. The Forge.\",\n",
    "    \"CHAPTER 114. The Gilder.\",\n",
    "    \"CHAPTER 115. The Pequod Meets The Bachelor.\",\n",
    "    \"CHAPTER 116. The Dying Whale.\",\n",
    "    \"CHAPTER 117. The Whale Watch.\",\n",
    "    \"CHAPTER 118. The Quadrant.\",\n",
    "    \"CHAPTER 119. The Candles.\",\n",
    "    \"CHAPTER 120. The Deck Towards the End of the First Night Watch.\",\n",
    "    \"CHAPTER 121. Midnight.—The Forecastle Bulwarks.\",\n",
    "    \"CHAPTER 122. Midnight Aloft.—Thunder and Lightning.\",\n",
    "    \"CHAPTER 123. The Musket.\",\n",
    "    \"CHAPTER 124. The Needle.\",\n",
    "    \"CHAPTER 125. The Log and Line.\",\n",
    "    \"CHAPTER 126. The Life-Buoy.\",\n",
    "    \"CHAPTER 127. The Deck.\",\n",
    "    \"CHAPTER 128. The Pequod Meets The Rachel.\",\n",
    "    \"CHAPTER 129. The Cabin.\",\n",
    "    \"CHAPTER 130. The Hat.\",\n",
    "    \"CHAPTER 131. The Pequod Meets The Delight.\",\n",
    "    \"CHAPTER 132. The Symphony.\",\n",
    "    \"CHAPTER 133. The Chase—First Day.\",\n",
    "    \"CHAPTER 134. The Chase—Second Day.\",\n",
    "    \"CHAPTER 135. The Chase.—Third Day.\",\n",
    "    \"Epilogue\"\n",
    "]\n"
   ]
  },
  {
   "cell_type": "code",
   "execution_count": null,
   "metadata": {},
   "outputs": [],
   "source": [
    "\n",
    "for marker in contents:\n",
    "    moby_dick.text.replace(marker, '', 1)"
   ]
  },
  {
   "cell_type": "code",
   "execution_count": null,
   "metadata": {},
   "outputs": [],
   "source": [
    "chapter_markers = r'(' + r')|('.join(contents) + r')'"
   ]
  },
  {
   "cell_type": "code",
   "execution_count": null,
   "metadata": {},
   "outputs": [],
   "source": [
    "\n",
    "moby_dick.split_into_chapters(chapter_markers)\n"
   ]
  },
  {
   "cell_type": "code",
   "execution_count": null,
   "metadata": {},
   "outputs": [],
   "source": [
    "moby_dick.do_nlp(nlp, 10000)\n"
   ]
  },
  {
   "cell_type": "code",
   "execution_count": null,
   "metadata": {},
   "outputs": [],
   "source": [
    "moby_dick.chapter_nlp(nlp)\n"
   ]
  },
  {
   "cell_type": "code",
   "execution_count": null,
   "metadata": {},
   "outputs": [],
   "source": [
    "moby_dick.blobify()\n"
   ]
  },
  {
   "cell_type": "code",
   "execution_count": null,
   "metadata": {},
   "outputs": [],
   "source": [
    "moby_dick.get_analysis()\n"
   ]
  },
  {
   "cell_type": "code",
   "execution_count": null,
   "metadata": {},
   "outputs": [],
   "source": [
    "moby_dick.chapter_analysis()\n",
    "books.append(moby_dick)"
   ]
  },
  {
   "attachments": {},
   "cell_type": "markdown",
   "metadata": {},
   "source": [
    "### Ulysses"
   ]
  },
  {
   "cell_type": "code",
   "execution_count": null,
   "metadata": {},
   "outputs": [],
   "source": [
    "with open('data\\\\Ulysses.txt', 'r', encoding='UTF-8') as file:\n",
    "    ulysses = Book('Ulysses', file.read())\n"
   ]
  },
  {
   "cell_type": "code",
   "execution_count": null,
   "metadata": {},
   "outputs": [],
   "source": [
    "chapter_markers = r''\n",
    "for i in range(1, 18):\n",
    "    chapter_markers += r'(\\n\\[ {} \\])|'.format(i)\n",
    "chapter_markers += r'(\\n\\[ 18 \\])'"
   ]
  },
  {
   "cell_type": "code",
   "execution_count": null,
   "metadata": {},
   "outputs": [],
   "source": [
    "\n",
    "ulysses.split_into_chapters(chapter_markers)\n"
   ]
  },
  {
   "cell_type": "code",
   "execution_count": null,
   "metadata": {},
   "outputs": [],
   "source": [
    "ulysses.do_nlp(nlp, 10000)\n"
   ]
  },
  {
   "cell_type": "code",
   "execution_count": null,
   "metadata": {},
   "outputs": [],
   "source": [
    "ulysses.chapter_nlp(nlp)\n"
   ]
  },
  {
   "cell_type": "code",
   "execution_count": null,
   "metadata": {},
   "outputs": [],
   "source": [
    "ulysses.blobify()\n"
   ]
  },
  {
   "cell_type": "code",
   "execution_count": null,
   "metadata": {},
   "outputs": [],
   "source": [
    "\n",
    "ulysses.get_analysis()\n"
   ]
  },
  {
   "cell_type": "code",
   "execution_count": null,
   "metadata": {},
   "outputs": [],
   "source": [
    "ulysses.chapter_analysis()\n",
    "books.append(ulysses)"
   ]
  },
  {
   "attachments": {},
   "cell_type": "markdown",
   "metadata": {},
   "source": [
    "## Conduct similarity analysis and display results"
   ]
  },
  {
   "cell_type": "code",
   "execution_count": null,
   "metadata": {},
   "outputs": [],
   "source": [
    "checker = SimilarityChecker(books)\n",
    "checker.calculate_all_similarities()\n"
   ]
  },
  {
   "cell_type": "code",
   "execution_count": null,
   "metadata": {},
   "outputs": [],
   "source": [
    "checker.display_matrix()"
   ]
  }
 ],
 "metadata": {
  "kernelspec": {
   "display_name": "Python 3",
   "language": "python",
   "name": "python3"
  },
  "language_info": {
   "codemirror_mode": {
    "name": "ipython",
    "version": 3
   },
   "file_extension": ".py",
   "mimetype": "text/x-python",
   "name": "python",
   "nbconvert_exporter": "python",
   "pygments_lexer": "ipython3",
   "version": "3.11.2"
  },
  "orig_nbformat": 4
 },
 "nbformat": 4,
 "nbformat_minor": 2
}
