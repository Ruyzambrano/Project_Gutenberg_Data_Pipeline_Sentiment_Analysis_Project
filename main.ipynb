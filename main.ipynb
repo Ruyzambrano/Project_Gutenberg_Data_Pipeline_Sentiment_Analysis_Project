{
 "cells": [
  {
   "cell_type": "code",
   "execution_count": 1,
   "metadata": {},
   "outputs": [],
   "source": [
    "import pandas as pd\n",
    "import spacy\n",
    "from book_importer import BookImporter\n"
   ]
  },
  {
   "cell_type": "code",
   "execution_count": 2,
   "metadata": {},
   "outputs": [],
   "source": [
    "book_id = [43, 345, 41445, 209, 1513]\n",
    "book_data = []\n",
    "for book in book_id:\n",
    "    title, author, text = BookImporter.get_book(book)\n",
    "    book_data.append({'Title': title, 'Author': author, 'Text': text})\n"
   ]
  },
  {
   "cell_type": "code",
   "execution_count": 3,
   "metadata": {},
   "outputs": [
    {
     "name": "stdout",
     "output_type": "stream",
     "text": [
      "<class 'pandas.core.frame.DataFrame'>\n",
      "RangeIndex: 5 entries, 0 to 4\n",
      "Data columns (total 3 columns):\n",
      " #   Column  Non-Null Count  Dtype \n",
      "---  ------  --------------  ----- \n",
      " 0   Title   5 non-null      object\n",
      " 1   Author  5 non-null      object\n",
      " 2   Text    5 non-null      object\n",
      "dtypes: object(3)\n",
      "memory usage: 252.0+ bytes\n"
     ]
    }
   ],
   "source": [
    "gothic_data = pd.DataFrame(book_data)\n",
    "gothic_data.info()"
   ]
  },
  {
   "cell_type": "code",
   "execution_count": 4,
   "metadata": {},
   "outputs": [
    {
     "name": "stdout",
     "output_type": "stream",
     "text": [
      "                                         Title                  Author   \n",
      "0  The Strange Case Of Dr. Jekyll And Mr. Hyde  Robert Louis Stevenson  \\\n",
      "1                                      Dracula             Bram Stoker   \n",
      "2                                 Frankenstein            Mary Shelley   \n",
      "3                        The Turn of the Screw             Henry James   \n",
      "4                             Romeo and Juliet     William Shakespeare   \n",
      "\n",
      "                                                Text  \n",
      "0  the project gutenberg ebook of the strange cas...  \n",
      "1  the project gutenberg ebook of dracula, by bra...  \n",
      "2  the project gutenberg ebook of frankenstein, b...  \n",
      "3  the project gutenberg ebook of the turn of the...  \n",
      "4  the project gutenberg ebook of romeo and julie...  \n"
     ]
    }
   ],
   "source": [
    "print(gothic_data)"
   ]
  },
  {
   "cell_type": "code",
   "execution_count": 5,
   "metadata": {},
   "outputs": [],
   "source": [
    "nlp = spacy.load('en_core_web_lg')"
   ]
  },
  {
   "cell_type": "code",
   "execution_count": 6,
   "metadata": {},
   "outputs": [
    {
     "ename": "NameError",
     "evalue": "name 'jekyll_hyde' is not defined",
     "output_type": "error",
     "traceback": [
      "\u001b[1;31m---------------------------------------------------------------------------\u001b[0m",
      "\u001b[1;31mNameError\u001b[0m                                 Traceback (most recent call last)",
      "Cell \u001b[1;32mIn[6], line 1\u001b[0m\n\u001b[1;32m----> 1\u001b[0m jekyll_hyde_doc \u001b[39m=\u001b[39m nlp(jekyll_hyde)\n\u001b[0;32m      2\u001b[0m jekyll_hyde_vectors \u001b[39m=\u001b[39m [token\u001b[39m.\u001b[39mvector \u001b[39mfor\u001b[39;00m token \u001b[39min\u001b[39;00m jekyll_hyde_doc]\n",
      "\u001b[1;31mNameError\u001b[0m: name 'jekyll_hyde' is not defined"
     ]
    }
   ],
   "source": [
    "jekyll_hyde_doc = nlp(jekyll_hyde)\n",
    "jekyll_hyde_vectors = [token.vector for token in jekyll_hyde_doc]"
   ]
  },
  {
   "cell_type": "code",
   "execution_count": null,
   "metadata": {},
   "outputs": [],
   "source": [
    "dracula_doc = nlp(dracula)\n",
    "dracula_vectors = [token.vector for token in dracula_doc]"
   ]
  },
  {
   "cell_type": "code",
   "execution_count": null,
   "metadata": {},
   "outputs": [],
   "source": [
    "frankenstein_doc = nlp(frankenstein)\n",
    "frankenstein_vectors = [token.vector for token in frankenstein_doc]"
   ]
  },
  {
   "cell_type": "code",
   "execution_count": null,
   "metadata": {},
   "outputs": [],
   "source": [
    "turn_of_the_screw_doc = nlp(turn_of_the_screw)\n",
    "turn_of_the_screw_vectors = [token.vector for token in turn_of_the_screw_doc]"
   ]
  },
  {
   "cell_type": "code",
   "execution_count": null,
   "metadata": {},
   "outputs": [],
   "source": [
    "romeo_and_juliet_doc = nlp(romeo_and_juliet)\n",
    "romeo_and_juliet_vectors = [token.vector for token in romeo_and_juliet_doc]"
   ]
  },
  {
   "cell_type": "code",
   "execution_count": null,
   "metadata": {},
   "outputs": [],
   "source": [
    "dracula_jekyll_similarity = dracula_doc.similarity(jekyll_hyde_doc)\n",
    "print(dracula_jekyll_similarity)"
   ]
  },
  {
   "cell_type": "code",
   "execution_count": null,
   "metadata": {},
   "outputs": [],
   "source": [
    "romeo_dracula_similarity = dracula_doc.similarity(romeo_and_juliet_doc)\n",
    "print(romeo_dracula_similarity)"
   ]
  }
 ],
 "metadata": {
  "kernelspec": {
   "display_name": "Python 3",
   "language": "python",
   "name": "python3"
  },
  "language_info": {
   "codemirror_mode": {
    "name": "ipython",
    "version": 3
   },
   "file_extension": ".py",
   "mimetype": "text/x-python",
   "name": "python",
   "nbconvert_exporter": "python",
   "pygments_lexer": "ipython3",
   "version": "3.11.2"
  },
  "orig_nbformat": 4
 },
 "nbformat": 4,
 "nbformat_minor": 2
}
